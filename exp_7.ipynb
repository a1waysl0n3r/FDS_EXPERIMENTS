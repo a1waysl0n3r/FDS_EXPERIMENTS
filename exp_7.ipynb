{
 "cells": [
  {
   "cell_type": "code",
   "execution_count": 52,
   "metadata": {},
   "outputs": [
    {
     "name": "stdout",
     "output_type": "stream",
     "text": [
      "Array A = \n",
      " [ 3 22 28 56]\n",
      "Array B = \n",
      " [ 6 88 29 35]\n",
      "A + B = \n",
      " [  9 110  57  91]\n"
     ]
    }
   ],
   "source": [
    "import numpy as np\n",
    "\n",
    "A = np.array([3, 22, 28, 56])\n",
    "B = np.array([6, 88, 29, 35])\n",
    "\n",
    "print(\"Array A = \\n\",A)\n",
    "print(\"Array B = \\n\",B)\n",
    "\n",
    "C = A + B\n",
    "\n",
    "print(\"A + B = \\n\",C)"
   ]
  },
  {
   "cell_type": "code",
   "execution_count": 53,
   "metadata": {},
   "outputs": [
    {
     "name": "stdout",
     "output_type": "stream",
     "text": [
      "Array D = \n",
      " [67 68 69 70]\n",
      "A + B + D = \n",
      " [ 76 178 126 161]\n"
     ]
    }
   ],
   "source": [
    "D = np.array([67, 68, 69, 70])\n",
    "\n",
    "print(\"Array D = \\n\",D)\n",
    "\n",
    "E = A + B + D\n",
    "\n",
    "print(\"A + B + D = \\n\",E)"
   ]
  },
  {
   "cell_type": "code",
   "execution_count": 54,
   "metadata": {},
   "outputs": [
    {
     "name": "stdout",
     "output_type": "stream",
     "text": [
      "A + B + D (using add func) = \n",
      " [  9 110  57  91]\n"
     ]
    }
   ],
   "source": [
    "F = np.add(A, B, D)\n",
    "\n",
    "print(\"A + B + D (using add func) = \\n\",F)"
   ]
  },
  {
   "cell_type": "code",
   "execution_count": 55,
   "metadata": {},
   "outputs": [
    {
     "name": "stdout",
     "output_type": "stream",
     "text": [
      "Array A = \n",
      " [  5  72  13 100]\n",
      "Array B = \n",
      " [ 2  5 10 30]\n",
      "A - B = \n",
      " [ 3 67  3 70]\n"
     ]
    }
   ],
   "source": [
    "A = np.array ([5, 72, 13, 100])\n",
    "B = np.array ([2, 5, 10, 30])\n",
    "\n",
    "print(\"Array A = \\n\",A)\n",
    "print(\"Array B = \\n\",B)\n",
    "\n",
    "C = A - B\n",
    "\n",
    "print(\"A - B = \\n\",C)"
   ]
  },
  {
   "cell_type": "code",
   "execution_count": 56,
   "metadata": {},
   "outputs": [
    {
     "name": "stdout",
     "output_type": "stream",
     "text": [
      "A * B = \n",
      " [  10  360  130 3000]\n"
     ]
    }
   ],
   "source": [
    "D = A * B\n",
    "\n",
    "print(\"A * B = \\n\",D)"
   ]
  },
  {
   "cell_type": "code",
   "execution_count": 57,
   "metadata": {},
   "outputs": [
    {
     "name": "stdout",
     "output_type": "stream",
     "text": [
      "A * B = \n",
      " [  10  360  130 3000]\n"
     ]
    }
   ],
   "source": [
    "E = np.multiply(A, B)\n",
    "\n",
    "print(\"A * B = \\n\",E)"
   ]
  },
  {
   "cell_type": "code",
   "execution_count": 58,
   "metadata": {},
   "outputs": [
    {
     "name": "stdout",
     "output_type": "stream",
     "text": [
      "A / B = \n",
      " [ 2.5        14.4         1.3         3.33333333]\n"
     ]
    }
   ],
   "source": [
    "F = A / B\n",
    "\n",
    "print(\"A / B = \\n\",F)"
   ]
  },
  {
   "cell_type": "code",
   "execution_count": 59,
   "metadata": {},
   "outputs": [
    {
     "name": "stdout",
     "output_type": "stream",
     "text": [
      "A / B = \n",
      " [ 2.5        14.4         1.3         3.33333333]\n"
     ]
    }
   ],
   "source": [
    "G = np.divide(A, B)\n",
    "\n",
    "print(\"A / B = \\n\",G)"
   ]
  },
  {
   "cell_type": "code",
   "execution_count": 60,
   "metadata": {},
   "outputs": [
    {
     "name": "stdout",
     "output_type": "stream",
     "text": [
      "A % B = \n",
      " [ 1  2  3 10]\n"
     ]
    }
   ],
   "source": [
    "C = np.mod(A, B)\n",
    "\n",
    "print(\"A % B = \\n\",C)"
   ]
  },
  {
   "cell_type": "code",
   "execution_count": 61,
   "metadata": {},
   "outputs": [
    {
     "name": "stdout",
     "output_type": "stream",
     "text": [
      "A % B = \n",
      " [ 1  2  3 10]\n"
     ]
    }
   ],
   "source": [
    "D = np.remainder(A, B)\n",
    "\n",
    "print(\"A % B = \\n\",D)"
   ]
  },
  {
   "cell_type": "code",
   "execution_count": 62,
   "metadata": {},
   "outputs": [
    {
     "name": "stdout",
     "output_type": "stream",
     "text": [
      "A ^ B = \n",
      " [                 25          1934917632        137858491849\n",
      " 1152921504606846976]\n"
     ]
    }
   ],
   "source": [
    "E = np.power(A, B)\n",
    "\n",
    "print(\"A ^ B = \\n\",E)"
   ]
  },
  {
   "cell_type": "code",
   "execution_count": 63,
   "metadata": {},
   "outputs": [
    {
     "name": "stdout",
     "output_type": "stream",
     "text": [
      "Mean of A = \n",
      " 47.5\n"
     ]
    }
   ],
   "source": [
    "M = np.mean(A)\n",
    "\n",
    "print(\"Mean of A = \\n\",M)"
   ]
  },
  {
   "cell_type": "code",
   "execution_count": 64,
   "metadata": {},
   "outputs": [
    {
     "name": "stdout",
     "output_type": "stream",
     "text": [
      "Average of B = \n",
      " 11.75\n"
     ]
    }
   ],
   "source": [
    "Av = np.average(B)\n",
    "\n",
    "print(\"Average of B = \\n\",Av)"
   ]
  },
  {
   "cell_type": "code",
   "execution_count": 65,
   "metadata": {},
   "outputs": [
    {
     "name": "stdout",
     "output_type": "stream",
     "text": [
      "Sum of Elements of A = \n",
      " 190\n"
     ]
    }
   ],
   "source": [
    "S = np.sum(A)\n",
    "\n",
    "print(\"Sum of Elements of A = \\n\",S)"
   ]
  },
  {
   "cell_type": "code",
   "execution_count": 66,
   "metadata": {},
   "outputs": [
    {
     "name": "stdout",
     "output_type": "stream",
     "text": [
      "Variance of B = \n",
      " 119.1875\n"
     ]
    }
   ],
   "source": [
    "V = np.var(B)\n",
    "\n",
    "print(\"Variance of B = \\n\",V)"
   ]
  },
  {
   "cell_type": "code",
   "execution_count": 67,
   "metadata": {},
   "outputs": [
    {
     "data": {
      "text/plain": [
       "array([[1, 3, 5, 7],\n",
       "       [2, 4, 6, 8]])"
      ]
     },
     "execution_count": 67,
     "metadata": {},
     "output_type": "execute_result"
    }
   ],
   "source": [
    "array1 = np.array([1,3,5,7,2,4,6,8])\n",
    "\n",
    "res = np.reshape(array1, (2,4))\n",
    "res"
   ]
  },
  {
   "cell_type": "code",
   "execution_count": 68,
   "metadata": {},
   "outputs": [
    {
     "data": {
      "text/plain": [
       "array([[1, 3],\n",
       "       [5, 7],\n",
       "       [2, 4],\n",
       "       [6, 8]])"
      ]
     },
     "execution_count": 68,
     "metadata": {},
     "output_type": "execute_result"
    }
   ],
   "source": [
    "res = np.reshape(array1, (4,2))\n",
    "res"
   ]
  },
  {
   "cell_type": "code",
   "execution_count": 69,
   "metadata": {},
   "outputs": [
    {
     "data": {
      "text/plain": [
       "array([[1, 3, 5, 7, 2, 4, 6, 8]])"
      ]
     },
     "execution_count": 69,
     "metadata": {},
     "output_type": "execute_result"
    }
   ],
   "source": [
    "res2 = np.reshape(array1, (1,8))\n",
    "res2"
   ]
  },
  {
   "cell_type": "code",
   "execution_count": 70,
   "metadata": {},
   "outputs": [
    {
     "data": {
      "text/plain": [
       "array([[[1, 3],\n",
       "        [5, 7]],\n",
       "\n",
       "       [[2, 4],\n",
       "        [6, 8]]])"
      ]
     },
     "execution_count": 70,
     "metadata": {},
     "output_type": "execute_result"
    }
   ],
   "source": [
    "res3 = np.reshape(array1, (2,2,2))\n",
    "res3"
   ]
  },
  {
   "cell_type": "code",
   "execution_count": 71,
   "metadata": {},
   "outputs": [
    {
     "name": "stdout",
     "output_type": "stream",
     "text": [
      "[[[1 3]\n",
      "  [5 7]]\n",
      "\n",
      " [[2 4]\n",
      "  [6 8]]]\n"
     ]
    },
    {
     "data": {
      "text/plain": [
       "array([1, 3, 5, 7, 2, 4, 6, 8])"
      ]
     },
     "execution_count": 71,
     "metadata": {},
     "output_type": "execute_result"
    }
   ],
   "source": [
    "array2 = np.array([[[1,3],[5,7]],[[2,4],[6,8]]])\n",
    "print(array2)\n",
    "\n",
    "res4 = np.reshape(array2, -1)\n",
    "res4"
   ]
  },
  {
   "cell_type": "code",
   "execution_count": 72,
   "metadata": {},
   "outputs": [
    {
     "name": "stdout",
     "output_type": "stream",
     "text": [
      "[5 7 8 9]\n",
      "[1 5 8 2]\n",
      "[7 8 9 2 4 6]\n",
      "[1 3 5 7 8 9 2 4 6]\n"
     ]
    }
   ],
   "source": [
    "array1 = np.array([1, 3, 5, 7, 8, 9, 2, 4, 6])\n",
    "\n",
    "print(array1[2:6])\n",
    " \n",
    "print(array1[0:8:2])\n",
    "\n",
    "print(array1[3:])\n",
    "\n",
    "print(array1[:])"
   ]
  },
  {
   "cell_type": "code",
   "execution_count": 73,
   "metadata": {},
   "outputs": [
    {
     "name": "stdout",
     "output_type": "stream",
     "text": [
      "[ 2  4  6 20 20 20]\n"
     ]
    }
   ],
   "source": [
    "numbers = np.array([2, 4, 6, 8, 10, 12])\n",
    "\n",
    "numbers[3:] = 20\n",
    "print(numbers)"
   ]
  },
  {
   "cell_type": "code",
   "execution_count": 74,
   "metadata": {},
   "outputs": [
    {
     "name": "stdout",
     "output_type": "stream",
     "text": [
      "[40 40 40  8 10 12]\n"
     ]
    }
   ],
   "source": [
    "numbers = np.array([2, 4, 6, 8, 10, 12])\n",
    "\n",
    "numbers[:3] = 40\n",
    "print(numbers)"
   ]
  },
  {
   "cell_type": "code",
   "execution_count": 75,
   "metadata": {},
   "outputs": [
    {
     "name": "stdout",
     "output_type": "stream",
     "text": [
      "[ 2  4 22 22 22 12]\n"
     ]
    }
   ],
   "source": [
    "numbers = np.array([2, 4, 6, 8, 10, 12])\n",
    "\n",
    "numbers[2:5] = 22\n",
    "print(numbers)"
   ]
  },
  {
   "cell_type": "code",
   "execution_count": 76,
   "metadata": {},
   "outputs": [
    {
     "name": "stdout",
     "output_type": "stream",
     "text": [
      "[ 2 16  6 16 10 12]\n"
     ]
    }
   ],
   "source": [
    "numbers = np.array([2, 4, 6, 8, 10, 12])\n",
    "\n",
    "numbers[1:5:2] = 16\n",
    "print(numbers)"
   ]
  },
  {
   "cell_type": "code",
   "execution_count": 77,
   "metadata": {},
   "outputs": [
    {
     "name": "stdout",
     "output_type": "stream",
     "text": [
      "[ 8 10 12]\n",
      "[4 6 8]\n",
      "[12  8  4]\n"
     ]
    }
   ],
   "source": [
    "numbers = np.array([2, 4, 6, 8, 10, 12])\n",
    "\n",
    "print(numbers[-3:])\n",
    "\n",
    "print(numbers[-5:-2])\n",
    "\n",
    "print(numbers[-1::-2])"
   ]
  },
  {
   "cell_type": "code",
   "execution_count": 78,
   "metadata": {},
   "outputs": [
    {
     "name": "stdout",
     "output_type": "stream",
     "text": [
      "[12 10  8  6  4  2]\n"
     ]
    }
   ],
   "source": [
    "numbers = np.array([2, 4, 6, 8, 10, 12])\n",
    "\n",
    "reversed_numbers = numbers[::-1]\n",
    "print(reversed_numbers)"
   ]
  },
  {
   "cell_type": "code",
   "execution_count": 79,
   "metadata": {},
   "outputs": [
    {
     "name": "stdout",
     "output_type": "stream",
     "text": [
      "[[ 1  3]\n",
      " [ 9 11]]\n"
     ]
    }
   ],
   "source": [
    "array1 = np.array([[1, 3, 5, 7], \n",
    "                   [9, 11, 13, 15]])\n",
    "\n",
    "print(array1[:2, :2])"
   ]
  },
  {
   "cell_type": "code",
   "execution_count": 80,
   "metadata": {},
   "outputs": [
    {
     "name": "stdout",
     "output_type": "stream",
     "text": [
      "First Two Rows and Columns: \n",
      " [[ 1  3]\n",
      " [ 9 11]]\n",
      "Last two Rows and Columns: \n",
      " [[13 15]\n",
      " [ 6  8]]\n"
     ]
    }
   ],
   "source": [
    "array1 = np.array([[1, 3, 5, 7], \n",
    "                      [9, 11, 13, 15],\n",
    "                      [2, 4, 6, 8]])\n",
    "\n",
    "subarray1 = array1[:2, :2]\n",
    "subarray2 = array1[1:3, 2:4]\n",
    "\n",
    "print(\"First Two Rows and Columns: \\n\",subarray1)\n",
    "print(\"Last two Rows and Columns: \\n\",subarray2)"
   ]
  }
 ],
 "metadata": {
  "kernelspec": {
   "display_name": "Python 3",
   "language": "python",
   "name": "python3"
  },
  "language_info": {
   "codemirror_mode": {
    "name": "ipython",
    "version": 3
   },
   "file_extension": ".py",
   "mimetype": "text/x-python",
   "name": "python",
   "nbconvert_exporter": "python",
   "pygments_lexer": "ipython3",
   "version": "3.12.5"
  }
 },
 "nbformat": 4,
 "nbformat_minor": 2
}
