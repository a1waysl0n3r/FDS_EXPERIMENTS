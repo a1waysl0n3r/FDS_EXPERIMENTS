{
 "cells": [
  {
   "cell_type": "code",
   "execution_count": 2,
   "id": "d0d1f710",
   "metadata": {},
   "outputs": [],
   "source": [
    "import numpy as np"
   ]
  },
  {
   "cell_type": "code",
   "execution_count": 3,
   "id": "8c32a22b",
   "metadata": {},
   "outputs": [
    {
     "data": {
      "text/plain": [
       "array([[1, 3],\n",
       "       [5, 7]])"
      ]
     },
     "execution_count": 3,
     "metadata": {},
     "output_type": "execute_result"
    }
   ],
   "source": [
    "matrix1 = np.array([[1,3],\n",
    "                    [5,7]])\n",
    "matrix1"
   ]
  },
  {
   "cell_type": "code",
   "execution_count": 4,
   "id": "1dd30738",
   "metadata": {},
   "outputs": [
    {
     "data": {
      "text/plain": [
       "array([[ 2,  3,  5],\n",
       "       [ 7, 14, 21],\n",
       "       [ 1,  3,  5]])"
      ]
     },
     "execution_count": 4,
     "metadata": {},
     "output_type": "execute_result"
    }
   ],
   "source": [
    "matrix2 = np.array([[2,3,5],\n",
    "                    [7,14,21],\n",
    "                   [1,3,5]])\n",
    "matrix2"
   ]
  },
  {
   "cell_type": "code",
   "execution_count": 5,
   "id": "81722f4f",
   "metadata": {},
   "outputs": [
    {
     "name": "stdout",
     "output_type": "stream",
     "text": [
      "Array A = \n",
      " [[1 2]\n",
      " [3 4]]\n",
      "Array B = \n",
      " [[4 5]\n",
      " [6 7]]\n",
      "A + B = \n",
      " [[ 5  7]\n",
      " [ 9 11]]\n"
     ]
    }
   ],
   "source": [
    "A = np.array ([[1,2],[3,4]])\n",
    "B = np.array ([[4,5],[6,7]])\n",
    "\n",
    "print(\"Array A = \\n\",A)\n",
    "print(\"Array B = \\n\",B)\n",
    "\n",
    "C = np.add(A,B)\n",
    "print(\"A + B = \\n\",C)"
   ]
  },
  {
   "cell_type": "code",
   "execution_count": 6,
   "id": "39790a8d",
   "metadata": {},
   "outputs": [
    {
     "name": "stdout",
     "output_type": "stream",
     "text": [
      "Array A = \n",
      " [[1 3]\n",
      " [5 7]]\n",
      "Array B = \n",
      " [[2 6]\n",
      " [4 8]]\n",
      "A . B = \n",
      " [[14 30]\n",
      " [38 86]]\n"
     ]
    }
   ],
   "source": [
    "A = np.array ([[1,3],[5,7]])\n",
    "B = np.array ([[2,6],[4,8]])\n",
    "\n",
    "print(\"Array A = \\n\",A)\n",
    "print(\"Array B = \\n\",B)\n",
    "\n",
    "C = np.dot(A, B)\n",
    "print(\"A . B = \\n\",C)"
   ]
  },
  {
   "cell_type": "code",
   "execution_count": 7,
   "id": "a5d95d77",
   "metadata": {},
   "outputs": [
    {
     "name": "stdout",
     "output_type": "stream",
     "text": [
      "Array A = \n",
      " [[1 2]\n",
      " [3 4]]\n",
      "Array B = \n",
      " [[4 5]\n",
      " [6 7]]\n",
      "A + B = \n",
      " [[-3 -3]\n",
      " [-3 -3]]\n"
     ]
    }
   ],
   "source": [
    "A = np.array ([[1,2],[3,4]])\n",
    "B = np.array ([[4,5],[6,7]])\n",
    "\n",
    "print(\"Array A = \\n\",A)\n",
    "print(\"Array B = \\n\",B)\n",
    "\n",
    "C = np.subtract(A,B)\n",
    "print(\"A - B = \\n\",C)"
   ]
  },
  {
   "cell_type": "code",
   "execution_count": 8,
   "id": "3e4fb10a",
   "metadata": {},
   "outputs": [
    {
     "name": "stdout",
     "output_type": "stream",
     "text": [
      "Array A = \n",
      " [[1 3]\n",
      " [5 7]]\n",
      "Transpose of A = \n",
      " [[1 5]\n",
      " [3 7]]\n"
     ]
    }
   ],
   "source": [
    "A = np.array ([[1,3],[5,7]])\n",
    "\n",
    "print(\"Array A = \\n\",A)\n",
    "\n",
    "C = np.transpose(A)\n",
    "print(\"Transpose of A = \\n\",C)"
   ]
  },
  {
   "cell_type": "code",
   "execution_count": 9,
   "id": "37769d96",
   "metadata": {},
   "outputs": [
    {
     "name": "stdout",
     "output_type": "stream",
     "text": [
      "Array A = \n",
      " [[1 3 5]\n",
      " [7 9 2]\n",
      " [4 6 8]]\n",
      "Inverse of A = \n",
      " [[-1.11111111 -0.11111111  0.72222222]\n",
      " [ 0.88888889  0.22222222 -0.61111111]\n",
      " [-0.11111111 -0.11111111  0.22222222]]\n"
     ]
    }
   ],
   "source": [
    "A = np.array([[1,3,5],\n",
    "             [7,9,2],\n",
    "             [4,6,8]])\n",
    "\n",
    "print(\"Array A = \\n\",A)\n",
    "\n",
    "C = np.linalg.inv(A)\n",
    "print(\"Inverse of A = \\n\",C)"
   ]
  }
 ],
 "metadata": {
  "kernelspec": {
   "display_name": "Python 3 (ipykernel)",
   "language": "python",
   "name": "python3"
  },
  "language_info": {
   "codemirror_mode": {
    "name": "ipython",
    "version": 3
   },
   "file_extension": ".py",
   "mimetype": "text/x-python",
   "name": "python",
   "nbconvert_exporter": "python",
   "pygments_lexer": "ipython3",
   "version": "3.12.5"
  }
 },
 "nbformat": 4,
 "nbformat_minor": 5
}
