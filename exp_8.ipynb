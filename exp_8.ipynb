{
 "cells": [
  {
   "cell_type": "code",
   "execution_count": 1,
   "metadata": {},
   "outputs": [
    {
     "name": "stdout",
     "output_type": "stream",
     "text": [
      "Sorting along the columns:\n",
      "[[ 2  3 10]\n",
      " [ 4  5  6]\n",
      " [ 7  8  9]]\n",
      "Sorting along the rows:\n",
      "[[ 4  2  3]\n",
      " [ 7  5  6]\n",
      " [10  8  9]]\n"
     ]
    }
   ],
   "source": [
    "import numpy as np\n",
    "a = np.array([[10,2,3],[4,5,6],[7,8,9]])\n",
    "print(\"Sorting along the columns:\")\n",
    "print(np.sort(a))\n",
    "print(\"Sorting along the rows:\")\n",
    "print(np.sort(a, 0))"
   ]
  },
  {
   "cell_type": "code",
   "execution_count": 2,
   "metadata": {},
   "outputs": [
    {
     "name": "stdout",
     "output_type": "stream",
     "text": [
      "Sorting data ordered by name\n",
      "[(b'John', 251) (b'Mukesh', 200)]\n"
     ]
    }
   ],
   "source": [
    "data_type = np.dtype([('name', 'S10'),('marks',int)])\n",
    "arr = np.array([('Mukesh',200),('John',251)],dtype = data_type)\n",
    "print(\"Sorting data ordered by name\")\n",
    "print(np.sort(arr,order = 'name'))"
   ]
  },
  {
   "cell_type": "code",
   "execution_count": 4,
   "metadata": {},
   "outputs": [
    {
     "name": "stdout",
     "output_type": "stream",
     "text": [
      "Original array:\n",
      " [90 29 89 12]\n",
      "Printing indices of sorted data\n",
      " [3 1 2 0]\n",
      "printing sorted array\n",
      "12 29 89 90 "
     ]
    }
   ],
   "source": [
    "import numpy as np\n",
    "a = np.array([90, 29, 89, 12])\n",
    "print(\"Original array:\\n\",a)\n",
    "sort_ind = np.argsort(a)\n",
    "print(\"Printing indices of sorted data\\n\",sort_ind)\n",
    "sort_a = a[sort_ind]\n",
    "print(\"printing sorted array\")\n",
    "for i in sort_ind:\n",
    "    print(a[i],end = \" \")"
   ]
  },
  {
   "cell_type": "code",
   "execution_count": 6,
   "metadata": {},
   "outputs": [
    {
     "name": "stdout",
     "output_type": "stream",
     "text": [
      "printing indices of sorted data\n",
      "[0 3 1 4 2]\n",
      "using the indices to sort the array\n",
      "a 12\n",
      "d 12\n",
      "b 90\n",
      "e 211\n",
      "c 380\n"
     ]
    }
   ],
   "source": [
    "import numpy as np\n",
    "a = np.array(['a','b','c','d','e'])\n",
    "b = np.array([12, 90, 380, 12, 211])\n",
    "ind = np.lexsort((a,b))\n",
    "print(\"printing indices of sorted data\")\n",
    "print(ind)\n",
    "print(\"using the indices to sort the array\")\n",
    "for i in ind:\n",
    "    print(a[i],b[i])"
   ]
  },
  {
   "cell_type": "code",
   "execution_count": 7,
   "metadata": {},
   "outputs": [
    {
     "name": "stdout",
     "output_type": "stream",
     "text": [
      "printing original array [ 12  90 380  12 211]\n",
      "printing location of the non-zero elements\n",
      "(array([0, 1, 2, 3, 4]),)\n"
     ]
    }
   ],
   "source": [
    "import numpy as np\n",
    "b = np.array([12, 90, 380, 12, 211])\n",
    "print(\"printing original array\",b)\n",
    "print(\"printing location of the non-zero elements\")\n",
    "print(b.nonzero())"
   ]
  },
  {
   "cell_type": "code",
   "execution_count": 9,
   "metadata": {},
   "outputs": [
    {
     "name": "stdout",
     "output_type": "stream",
     "text": [
      "(array([1, 2, 4]),)\n",
      "(array([0, 1, 1]), array([1, 0, 1]))\n"
     ]
    }
   ],
   "source": [
    "import numpy as np\n",
    "b = np.array([12, 90, 380, 12, 211])\n",
    "print(np.where(b>12))\n",
    "c = np.array([[20, 24],[21, 23]])\n",
    "print(np.where(c>20))"
   ]
  }
 ],
 "metadata": {
  "kernelspec": {
   "display_name": "Python 3",
   "language": "python",
   "name": "python3"
  },
  "language_info": {
   "codemirror_mode": {
    "name": "ipython",
    "version": 3
   },
   "file_extension": ".py",
   "mimetype": "text/x-python",
   "name": "python",
   "nbconvert_exporter": "python",
   "pygments_lexer": "ipython3",
   "version": "3.12.5"
  }
 },
 "nbformat": 4,
 "nbformat_minor": 2
}
